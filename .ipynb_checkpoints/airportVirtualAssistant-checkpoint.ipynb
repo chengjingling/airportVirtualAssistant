{
 "cells": [
  {
   "cell_type": "markdown",
   "metadata": {},
   "source": [
    "# Exercise 4\n",
    "This exercise implements speech recognition on 22 audio files using Mozilla DeepSpeech, and displays their word error rate (WER). Additional audio features have been implemented for some of the audio files to improve their WER."
   ]
  },
  {
   "cell_type": "markdown",
   "metadata": {},
   "source": [
    "Firstly, we need to install and import the libraries required in the application."
   ]
  },
  {
   "cell_type": "code",
   "execution_count": null,
   "metadata": {},
   "outputs": [],
   "source": [
    "pip install deepspeech"
   ]
  },
  {
   "cell_type": "code",
   "execution_count": null,
   "metadata": {},
   "outputs": [],
   "source": [
    "pip install librosa --user"
   ]
  },
  {
   "cell_type": "code",
   "execution_count": null,
   "metadata": {},
   "outputs": [],
   "source": [
    "pip install pydub"
   ]
  },
  {
   "cell_type": "code",
   "execution_count": null,
   "metadata": {},
   "outputs": [],
   "source": [
    "pip install prettytable"
   ]
  },
  {
   "cell_type": "code",
   "execution_count": null,
   "metadata": {},
   "outputs": [],
   "source": [
    "# Import libraries\n",
    "import os\n",
    "from deepspeech import Model\n",
    "import librosa as lr\n",
    "import numpy as np\n",
    "import pydub\n",
    "from IPython.display import Audio\n",
    "from prettytable import PrettyTable"
   ]
  },
  {
   "cell_type": "markdown",
   "metadata": {},
   "source": [
    "Next, the file paths of the models, scorers, and audio files are declared for each of the languages (English, Spanish and Italian). Sentences for each of the audio files are also declared for WER calculation."
   ]
  },
  {
   "cell_type": "code",
   "execution_count": null,
   "metadata": {},
   "outputs": [],
   "source": [
    "# English language configuration\n",
    "en_model = \"Models/deepspeech-0.9.3-models.pbmm\"\n",
    "en_scorer = \"Models/deepspeech-0.9.3-models.scorer\"\n",
    "en_audio_files = [\"Audio_Files/EN/checkin.wav\",\n",
    "                  \"Audio_Files/EN/checkin_child.wav\",\n",
    "                  \"Audio_Files/EN/parents.wav\",\n",
    "                  \"Audio_Files/EN/parents_child.wav\",\n",
    "                  \"Audio_Files/EN/suitcase.wav\",\n",
    "                  \"Audio_Files/EN/suitcase_child.wav\",\n",
    "                  \"Audio_Files/EN/what_time.wav\",\n",
    "                  \"Audio_Files/EN/what_time_child.wav\",\n",
    "                  \"Audio_Files/EN/where.wav\",\n",
    "                  \"Audio_Files/EN/where_child.wav\"]\n",
    "en_sentences = [\"where is the check in desk\",\n",
    "                \"where is the check in desk\",\n",
    "                \"i have lost my parents\",\n",
    "                \"i have lost my parents\",\n",
    "                \"please i have lost my suitcase\",\n",
    "                \"please i have lost my suitcase\",\n",
    "                \"what time is my plane\",\n",
    "                \"what time is my plane\",\n",
    "                \"where are the restaurants and shops\",\n",
    "                \"where are the restaurants and shops\"]\n",
    "\n",
    "# Spanish language configuration\n",
    "es_model = \"Models/output_graph_es.pbmm\"\n",
    "es_scorer = \"Models/kenlm_es.scorer\"\n",
    "es_audio_files = [\"Audio_Files/ES/checkin_es.wav\",\n",
    "                  \"Audio_Files/ES/parents_es.wav\",\n",
    "                  \"Audio_Files/ES/suitcase_es.wav\",\n",
    "                  \"Audio_Files/ES/what_time_es.wav\",\n",
    "                  \"Audio_Files/ES/where_es.wav\"]\n",
    "es_sentences = [\"donde estan los mostradores\",\n",
    "                \"he perdido a mis padres\",\n",
    "                \"por favor he perdido mi maleta\",\n",
    "                \"ahora es miedo\",\n",
    "                \"donde estan los restaurantes en las tierras\"]\n",
    "\n",
    "# Italian language configuration\n",
    "it_model = \"Models/output_graph_it.pbmm\"\n",
    "it_scorer = \"Models/kenlm_it.scorer\"\n",
    "it_audio_files = [\"Audio_Files/IT/checkin_it.wav\",\n",
    "                  \"Audio_Files/IT/parents_it.wav\",\n",
    "                  \"Audio_Files/IT/suitcase_it.wav\",\n",
    "                  \"Audio_Files/IT/what_time_it.wav\",\n",
    "                  \"Audio_Files/IT/where_it.wav\"]\n",
    "it_sentences = [\"dove e il pancone\",\n",
    "                \"ho perso i miei genitori\",\n",
    "                \"per favore ho perso la mia valigia\",\n",
    "                \"a che ora e mio aereo\",\n",
    "                \"dove sono ristoranti negozi\"]\n",
    "\n",
    "# Recorded sentences configuration\n",
    "recorded_audio_files = [\"Audio_Files/your_sentence1.wav\",\n",
    "                        \"Audio_Files/your_sentence2.wav\"]\n",
    "recorded_sentences = [\"where is the nearest toilet\",\n",
    "                      \"how do i get to gate twenty five\"]"
   ]
  },
  {
   "cell_type": "markdown",
   "metadata": {},
   "source": [
    "The file paths of the models, scorers and audio files are then checked using assertions to ensure that they exist."
   ]
  },
  {
   "cell_type": "code",
   "execution_count": null,
   "metadata": {},
   "outputs": [],
   "source": [
    "# Assertions to check the existence of required files\n",
    "assert os.path.exists(en_model), en_model + \" not found\"\n",
    "assert os.path.exists(en_scorer), en_scorer + \" not found\"\n",
    "for i in range(len(en_audio_files)):\n",
    "    assert os.path.exists(en_audio_files[i]), en_audio_files[i] + \" not found\"\n",
    "    \n",
    "assert os.path.exists(es_model), es_model + \" not found\"\n",
    "assert os.path.exists(es_scorer), es_scorer + \" not found\"\n",
    "for i in range(len(es_audio_files)):\n",
    "    assert os.path.exists(es_audio_files[i]), es_audio_files[i] + \" not found\"\n",
    "    \n",
    "assert os.path.exists(it_model), it_model + \" not found\"\n",
    "assert os.path.exists(it_scorer), it_scorer + \" not found\"\n",
    "for i in range(len(it_audio_files)):\n",
    "    assert os.path.exists(it_audio_files[i]), it_audio_files[i] + \" not found\"\n",
    "    \n",
    "for i in range(len(recorded_audio_files)):\n",
    "    assert os.path.exists(recorded_audio_files[i]), recorded_audio_files[i] + \" not found\""
   ]
  },
  {
   "cell_type": "markdown",
   "metadata": {},
   "source": [
    "If no assertions occur, the models will be loaded into the application."
   ]
  },
  {
   "cell_type": "code",
   "execution_count": null,
   "metadata": {},
   "outputs": [],
   "source": [
    "# Load DeepSpeech models for English, Spanish, and Italian\n",
    "en_ds = Model(en_model)\n",
    "en_ds.enableExternalScorer(en_scorer)\n",
    "\n",
    "es_ds = Model(es_model)\n",
    "es_ds.enableExternalScorer(es_scorer)\n",
    "\n",
    "it_ds = Model(it_model)\n",
    "it_ds.enableExternalScorer(it_scorer)"
   ]
  },
  {
   "cell_type": "markdown",
   "metadata": {},
   "source": [
    "The speech_recognition function performs speech recognition on each of the audio files.\n",
    "\n",
    "The function takes in a list of audio files, a model and a list of correct sentences, and performs speech-to-text (STT) on the audio files using DeepSpeech. The interpreted sentences are then compared with the correct sentences to calculate the WER. Finally, a list of all the WERs is returned.\n",
    "\n",
    "Audio features such as pitch shifting and gain are implemented on some of the audio files before STT, to improve the WER."
   ]
  },
  {
   "cell_type": "code",
   "execution_count": null,
   "metadata": {},
   "outputs": [],
   "source": [
    "# Function for speech recognition using DeepSpeech\n",
    "def speech_recognition(audio_files, ds, sentences):\n",
    "    # Initialize a list to store Word Error Rates (WERs)\n",
    "    wers = []\n",
    "    \n",
    "    # Loop through each audio file\n",
    "    for i in range(len(audio_files)):\n",
    "        # Load and preprocess the audio file\n",
    "        audio = lr.load(audio_files[i], sr=ds.sampleRate())[0]\n",
    "        audio = (audio * 32767).astype(np.int16)\n",
    "        audio = pydub.AudioSegment(audio.tobytes(), frame_rate=ds.sampleRate(), sample_width=2, channels=1)\n",
    "        \n",
    "        # Audio-specific processing based on file names\n",
    "        if audio_files[i][15:] == \"checkin.wav\" or audio_files[i][15:] == \"checkin_child.wav\" or audio_files[i][15:] == \"suitcase_child.wav\":\n",
    "            # Shift the pitch for specific files\n",
    "            sample_array = np.array(audio.get_array_of_samples())\n",
    "            shifted_array = np.interp(np.arange(0, len(sample_array), 2 ** (-2 / 12)),\n",
    "                                      np.arange(len(sample_array)),\n",
    "                                      sample_array).astype(np.int16)\n",
    "            audio = pydub.AudioSegment(shifted_array.tobytes(), frame_rate=audio.frame_rate, sample_width=2, channels=1)\n",
    "        elif audio_files[i][15:] == \"what_time_it.wav\":\n",
    "            # Increase the volume for a specific file\n",
    "            audio += 10\n",
    "\n",
    "        # Perform speech-to-text (STT) using DeepSpeech\n",
    "        res = ds.stt(np.array(audio.get_array_of_samples()))\n",
    "\n",
    "        # Calculate Word Error Rate (WER) between the original and interpreted texts\n",
    "        original_text = sentences[i].split()\n",
    "        interpreted_text = res.split()\n",
    "        original_length = len(original_text)\n",
    "        index = 0\n",
    "\n",
    "        while index < len(original_text):\n",
    "            match_found = False\n",
    "\n",
    "            for j in range(len(interpreted_text)):\n",
    "                if original_text[index] == interpreted_text[j]:\n",
    "                    original_removed = original_text.pop(index)\n",
    "                    interpreted_removed = interpreted_text.pop(j)\n",
    "                    match_found = True\n",
    "                    break\n",
    "\n",
    "            if not match_found:\n",
    "                index += 1\n",
    "\n",
    "        no_of_errors = 0\n",
    "\n",
    "        if len(original_text) > len(interpreted_text):\n",
    "            no_of_errors = len(original_text)\n",
    "        else:\n",
    "            no_of_errors = len(interpreted_text)\n",
    "\n",
    "        wer = no_of_errors / original_length * 100\n",
    "        wers.append(wer)\n",
    "\n",
    "        # Display information about the current recognition\n",
    "        if audio_files[i][12:] == \"your_sentence1.wav\" or audio_files[i][12:] == \"your_sentence2.wav\":\n",
    "            print(audio_files[i][12:])\n",
    "        else:\n",
    "            print(audio_files[i][15:])\n",
    "        display(Audio(audio_files[i]))\n",
    "        print(f\"Original text: {sentences[i]}\")\n",
    "        print(f\"Interpreted text: {res}\")\n",
    "        print(f\"WER: {wer}%\")\n",
    "        print(\"--------------------------------------------------------\")\n",
    "    \n",
    "    return wers"
   ]
  },
  {
   "cell_type": "markdown",
   "metadata": {},
   "source": [
    "Lastly, the speech_recognition function is called on the audio files, and their WERs are displayed in a table using PrettyTable."
   ]
  },
  {
   "cell_type": "code",
   "execution_count": null,
   "metadata": {},
   "outputs": [],
   "source": [
    "# Perform speech recognition for English audio files\n",
    "print(\"English\")\n",
    "print(\"-------\")\n",
    "en_wers = speech_recognition(en_audio_files, en_ds, en_sentences)\n",
    "\n",
    "# Perform speech recognition for Spanish audio files\n",
    "print(\"Spanish\")\n",
    "print(\"-------\")\n",
    "es_wers = speech_recognition(es_audio_files, es_ds, es_sentences)\n",
    "\n",
    "# Perform speech recognition for Italian audio files\n",
    "print(\"Italian\")\n",
    "print(\"-------\")\n",
    "it_wers = speech_recognition(it_audio_files, it_ds, it_sentences)\n",
    "\n",
    "# Perform speech recognition for recorded sentences in English\n",
    "print(\"Recorded sentences\")\n",
    "print(\"------------------\")\n",
    "recorded_wers = speech_recognition(recorded_audio_files, en_ds, recorded_sentences)\n",
    "\n",
    "# Create a PrettyTable to display the WERs in a tabular format\n",
    "table = PrettyTable([\"Language\", \"File\", \"WER\"])\n",
    "\n",
    "# Add rows for English audio files\n",
    "for i in range(len(en_audio_files)):\n",
    "    table.add_row([\"English\", en_audio_files[i][15:], f\"{en_wers[i]}%\"])\n",
    "\n",
    "# Add rows for Spanish audio files\n",
    "for i in range(len(es_audio_files)):\n",
    "    table.add_row([\"Spanish\", es_audio_files[i][15:], f\"{es_wers[i]}%\"])\n",
    "\n",
    "# Add rows for Italian audio files\n",
    "for i in range(len(it_audio_files)):\n",
    "    table.add_row([\"Italian\", it_audio_files[i][15:], f\"{it_wers[i]}%\"])\n",
    "\n",
    "# Add rows for recorded sentences\n",
    "for i in range(len(recorded_audio_files)):\n",
    "    table.add_row([\"English\", recorded_audio_files[i][12:], f\"{recorded_wers[i]}%\"])\n",
    "\n",
    "# Display the final table\n",
    "print(table)"
   ]
  }
 ],
 "metadata": {
  "kernelspec": {
   "display_name": "py37",
   "language": "python",
   "name": "py37"
  },
  "language_info": {
   "codemirror_mode": {
    "name": "ipython",
    "version": 3
   },
   "file_extension": ".py",
   "mimetype": "text/x-python",
   "name": "python",
   "nbconvert_exporter": "python",
   "pygments_lexer": "ipython3",
   "version": "3.7.16"
  }
 },
 "nbformat": 4,
 "nbformat_minor": 2
}
